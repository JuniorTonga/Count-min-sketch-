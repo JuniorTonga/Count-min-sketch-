{
 "cells": [
  {
   "attachments": {},
   "cell_type": "markdown",
   "metadata": {},
   "source": [
    "# Name : Tonga junior cedric\n"
   ]
  },
  {
   "cell_type": "code",
   "execution_count": 48,
   "metadata": {},
   "outputs": [],
   "source": [
    "# importation of necessary librairies\n",
    "import random\n",
    "from tabulate import tabulate\n",
    "from collections import Counter\n",
    "import math\n"
   ]
  },
  {
   "attachments": {},
   "cell_type": "markdown",
   "metadata": {},
   "source": [
    "In this part, it is a class that implements the whole mincount. I passed the W and d as parameters, and from that we can find the epsilon and delta. But you could also pass the epsilon and lambda as parameters and find the w and d. I think it doesn't bother.\n",
    "\n",
    "I implemented the different functions and used the following formula to evaluate the difference between the predicted frequency and the actual frequency.\n",
    "\n",
    "\\begin{equation}\n",
    "\\mathrm{loss} = \\frac{1}{n} \\sum_{x \\in \\mathrm{universe}} \\lvert \\mathrm{actual}(x) - \\mathrm{query}(x) \\rvert\n",
    "\\end{equation}\n",
    "\n",
    "where $n$ is the total number of inserted elements, $\\mathrm{universe}$ is the set of all possible data elements, $\\mathrm{actual}(x)$ is the actual frequency of data element $x$, and $\\mathrm{query}(x)$ is the predicted frequency of data element $x$"
   ]
  },
  {
   "cell_type": "code",
   "execution_count": 49,
   "metadata": {},
   "outputs": [],
   "source": [
    "class CountMin:\n",
    "    def __init__(self, d, w, universe=['A','B','C','D','E','F','G']):\n",
    "\n",
    "        self.d = d # depth of the table == number of hash functions\n",
    "        self.w = w # width of the table\n",
    "        self.universe = universe # the set of all possible items\n",
    "\n",
    "        self.p = 1223543677 # a  large prime\n",
    "        self.epsilon = math.e/self.w # base on w=math.e/epsilon\n",
    "        self.delta = 1/math.exp(self.d) # based on d=math.log(1/delta)\n",
    "\n",
    "        self.a = [random.randrange(self.p) for i in range(d)]  # random coefficients to have several hash functions\n",
    "        self.b = [random.randrange(self.p) for i in range(d)]\n",
    "\n",
    "        self.table_init() # initialize the table with zeros\n",
    "\n",
    "    def table_init(self):\n",
    "            \n",
    "        '''\n",
    "            we initialize the table with zeros\n",
    "            we filled all the cells with zeros \n",
    "            \n",
    "        '''\n",
    "        self.table = [[0] * self.w for _ in range(self.d)]\n",
    "\n",
    "    def hash(self, x,a,b):\n",
    "        ''' \n",
    "            x: item\n",
    "            hash function\n",
    "            a: random coefficient\n",
    "            b: random coefficient\n",
    "            return: hash value of x with restriction in [0,w-1]\n",
    "        '''\n",
    "        return  ((a*hash(x)+b)%self.p)%self.w\n",
    "\n",
    "    def get_hash(self, x):\n",
    "        '''\n",
    "            x: item\n",
    "            return: list of hash values of x\n",
    "        '''\n",
    "        return [self.hash(x, self.a[i], self.b[i]) for i in range(self.d)]\n",
    "    \n",
    "    def print_table(self):\n",
    "        '''\n",
    "            print the table \n",
    "\n",
    "        '''\n",
    "        \n",
    "        print(tabulate([[f'h{(d)}']+self.table[d] for d in range(self.d)], tablefmt='grid'))\n",
    "    \n",
    "    def update(self, x): \n",
    "        \n",
    "        '''\n",
    "            x: item\n",
    "            update the table if and only if x is in the universe\n",
    "            so add 1 to the cell corresponding to the hash value of x\n",
    "        '''\n",
    "        if x in self.universe:\n",
    "            for i in range(self.d):\n",
    "                self.table[i][self.get_hash(x)[i]] += 1\n",
    "        else:\n",
    "            print('x is not in the universe')\n",
    "    \n",
    "    def query(self, x): \n",
    "        '''\n",
    "            x: item\n",
    "            return: the estimated frequency of x if x is in the universe\n",
    "        '''\n",
    "        if x in self.universe:\n",
    "            \n",
    "            return min([self.table[i][self.get_hash(x)[i]] for i in range(self.d)])\n",
    "        else:\n",
    "            return 'x is not in the universe'\n",
    "\n",
    "    def random_insert(self, n): \n",
    "        '''\n",
    "            n: number of items to be inserted\n",
    "            insert n items randomly\n",
    "            we update the table with the frequency of each item\n",
    "            we return the frequency of each item\n",
    "        '''\n",
    "        self.table_init()\n",
    "        choices = random.choices(self.universe, k=n)\n",
    "        for x in choices:\n",
    "            self.update(x)\n",
    "        return Counter(choices)\n",
    "    \n",
    "    def evaluate(self, n): \n",
    "        '''\n",
    "            n: number of items to be inserted\n",
    "            return: loss between the actual frequency and the estimated frequency\n",
    "\n",
    "\n",
    "            for that we define a loss function,which is the sum of the absolute difference between the actual frequency(real frequency)\n",
    "            and the estimated frequency divided by n\n",
    "            so if the loss is 0, it means that the estimated frequency is the same as the actual frequency(real frequency)\n",
    "            and if the loss is different from 0, it means that the estimated frequency is different from the actual frequency\n",
    "\n",
    "            finally,we print the epsilon, delta associated with the loss\n",
    "\n",
    "        '''\n",
    "        self.table_init()\n",
    "        actual = self.random_insert(n)\n",
    "        diff = list()\n",
    "        for x in self.universe:\n",
    "            diff.append(abs(actual[x] - self.query(x)))\n",
    "            \n",
    "            loss= sum(diff)/n\n",
    "        print(f'for (ϵ={self.epsilon}, δ={self.delta}) approximation, the loss is {loss}')\n"
   ]
  },
  {
   "attachments": {},
   "cell_type": "markdown",
   "metadata": {},
   "source": [
    "Some examples"
   ]
  },
  {
   "cell_type": "code",
   "execution_count": 50,
   "metadata": {},
   "outputs": [
    {
     "name": "stdout",
     "output_type": "stream",
     "text": [
      "for (ϵ=0.543656365691809, δ=0.006737946999085467) approximation, the loss is 0.261\n"
     ]
    }
   ],
   "source": [
    "# initialize the counter with d=5 and w=5\n",
    "counter2 = CountMin(5, 5)\n",
    "\n",
    "# insert 1000 items randomly and evaluate the loss\n",
    "counter2.evaluate(1000)"
   ]
  },
  {
   "cell_type": "code",
   "execution_count": 51,
   "metadata": {},
   "outputs": [
    {
     "name": "stdout",
     "output_type": "stream",
     "text": [
      "for (ϵ=0.6795704571147613, δ=1.1253517471925912e-07) approximation, the loss is 0.0\n"
     ]
    }
   ],
   "source": [
    "# initialize the counter with d=16 and w=4, this case seems like the approximative frequency is the same as the actual frequency\n",
    "#but the  loss can be different due to random choices\n",
    "counter1=CountMin(16,4)\n",
    "# insert 1000 items randomly and evaluate the loss\n",
    "counter1.evaluate(1000)"
   ]
  },
  {
   "cell_type": "code",
   "execution_count": 52,
   "metadata": {},
   "outputs": [
    {
     "name": "stdout",
     "output_type": "stream",
     "text": [
      "for (ϵ=0.6795704571147613, δ=0.1353352832366127) approximation, the loss is 0.975\n"
     ]
    }
   ],
   "source": [
    "# initialize the counter with d=2 and w=4\n",
    "counter3=CountMin(2,4)\n",
    "# insert 1000 items randomly and evaluate the loss\n",
    "counter3.evaluate(1000)"
   ]
  },
  {
   "attachments": {},
   "cell_type": "markdown",
   "metadata": {},
   "source": [
    "# OBSERVATION : \n",
    "\n",
    "We can see that when the number of hash functions is small, there can be more collisions between the hash functions, and the approximation is larger than the actual frequency (because the predicted frequency cannot be negative, either it is equal to the actual one or it is larger). On the other hand, when the number of hash functions is high, the approximation of the frequency is better because there are fewer collisions.\n",
    "We can therefore deduce that for a high number of hash functions, the approximate frequency is equal or tends to be equal to the real frequency, this is visible by the loss which is equal to 0 or tends more towards 0.\n",
    "And if the loss moves further and further away from 0, it means that the approximate frequency is higher than the real frequency. So there are elements for which the approximate frequency is very different from the real one."
   ]
  },
  {
   "cell_type": "code",
   "execution_count": 53,
   "metadata": {},
   "outputs": [
    {
     "name": "stdout",
     "output_type": "stream",
     "text": [
      "with no update\n",
      "A : 0\n",
      "B : 0\n",
      "C : 0\n"
     ]
    }
   ],
   "source": [
    "counter= CountMin(10, 30)  # 10 hash functions with arrays of size 30\n",
    "\n",
    "print(\"with no update\")\n",
    "for x in ['A','B','C']:\n",
    "    print(f'{x} : {counter.query(x)}')"
   ]
  },
  {
   "cell_type": "code",
   "execution_count": 54,
   "metadata": {},
   "outputs": [
    {
     "name": "stdout",
     "output_type": "stream",
     "text": [
      "with updating\n",
      "A : 2\n",
      "B : 1\n",
      "C : 1\n"
     ]
    }
   ],
   "source": [
    "# try to update the table with the frequency of each item\n",
    "\n",
    "# we can see that querie and update work well\n",
    "\n",
    "for x in ['A','A','B','C']:\n",
    "    counter.update(x)\n",
    "\n",
    "print(\"with updating\")\n",
    "for x in ['A','B','C']:\n",
    "    print(f'{x} : {counter.query(x)}')"
   ]
  },
  {
   "cell_type": "code",
   "execution_count": 55,
   "metadata": {},
   "outputs": [
    {
     "name": "stdout",
     "output_type": "stream",
     "text": [
      "+----+---+---+---+---+---+---+---+---+---+---+---+---+---+---+---+---+---+---+---+---+---+---+---+---+---+---+---+---+---+---+\n",
      "| h0 | 0 | 1 | 0 | 0 | 0 | 0 | 0 | 0 | 0 | 0 | 0 | 0 | 1 | 0 | 0 | 0 | 0 | 2 | 0 | 0 | 0 | 0 | 0 | 0 | 0 | 0 | 0 | 0 | 0 | 0 |\n",
      "+----+---+---+---+---+---+---+---+---+---+---+---+---+---+---+---+---+---+---+---+---+---+---+---+---+---+---+---+---+---+---+\n",
      "| h1 | 0 | 0 | 0 | 0 | 0 | 0 | 0 | 0 | 0 | 0 | 0 | 0 | 0 | 0 | 1 | 0 | 0 | 2 | 0 | 0 | 0 | 1 | 0 | 0 | 0 | 0 | 0 | 0 | 0 | 0 |\n",
      "+----+---+---+---+---+---+---+---+---+---+---+---+---+---+---+---+---+---+---+---+---+---+---+---+---+---+---+---+---+---+---+\n",
      "| h2 | 0 | 0 | 0 | 0 | 0 | 0 | 0 | 0 | 0 | 0 | 0 | 0 | 0 | 0 | 0 | 0 | 1 | 2 | 0 | 0 | 0 | 0 | 0 | 0 | 0 | 0 | 0 | 0 | 0 | 1 |\n",
      "+----+---+---+---+---+---+---+---+---+---+---+---+---+---+---+---+---+---+---+---+---+---+---+---+---+---+---+---+---+---+---+\n",
      "| h3 | 0 | 0 | 0 | 0 | 0 | 0 | 0 | 0 | 0 | 0 | 0 | 0 | 0 | 0 | 0 | 0 | 0 | 0 | 3 | 0 | 1 | 0 | 0 | 0 | 0 | 0 | 0 | 0 | 0 | 0 |\n",
      "+----+---+---+---+---+---+---+---+---+---+---+---+---+---+---+---+---+---+---+---+---+---+---+---+---+---+---+---+---+---+---+\n",
      "| h4 | 0 | 0 | 0 | 0 | 0 | 0 | 0 | 0 | 1 | 0 | 0 | 0 | 0 | 0 | 0 | 0 | 0 | 0 | 0 | 1 | 0 | 0 | 0 | 0 | 0 | 0 | 0 | 0 | 2 | 0 |\n",
      "+----+---+---+---+---+---+---+---+---+---+---+---+---+---+---+---+---+---+---+---+---+---+---+---+---+---+---+---+---+---+---+\n",
      "| h5 | 0 | 1 | 0 | 0 | 0 | 0 | 0 | 0 | 2 | 0 | 0 | 0 | 0 | 0 | 0 | 0 | 0 | 0 | 0 | 0 | 0 | 0 | 0 | 0 | 1 | 0 | 0 | 0 | 0 | 0 |\n",
      "+----+---+---+---+---+---+---+---+---+---+---+---+---+---+---+---+---+---+---+---+---+---+---+---+---+---+---+---+---+---+---+\n",
      "| h6 | 0 | 0 | 0 | 0 | 0 | 0 | 0 | 0 | 1 | 0 | 1 | 0 | 0 | 0 | 2 | 0 | 0 | 0 | 0 | 0 | 0 | 0 | 0 | 0 | 0 | 0 | 0 | 0 | 0 | 0 |\n",
      "+----+---+---+---+---+---+---+---+---+---+---+---+---+---+---+---+---+---+---+---+---+---+---+---+---+---+---+---+---+---+---+\n",
      "| h7 | 0 | 0 | 0 | 0 | 0 | 0 | 0 | 0 | 0 | 0 | 0 | 0 | 0 | 0 | 0 | 0 | 2 | 0 | 0 | 0 | 0 | 0 | 1 | 0 | 0 | 0 | 0 | 0 | 0 | 1 |\n",
      "+----+---+---+---+---+---+---+---+---+---+---+---+---+---+---+---+---+---+---+---+---+---+---+---+---+---+---+---+---+---+---+\n",
      "| h8 | 0 | 0 | 0 | 0 | 0 | 0 | 0 | 3 | 0 | 1 | 0 | 0 | 0 | 0 | 0 | 0 | 0 | 0 | 0 | 0 | 0 | 0 | 0 | 0 | 0 | 0 | 0 | 0 | 0 | 0 |\n",
      "+----+---+---+---+---+---+---+---+---+---+---+---+---+---+---+---+---+---+---+---+---+---+---+---+---+---+---+---+---+---+---+\n",
      "| h9 | 0 | 0 | 0 | 0 | 0 | 0 | 0 | 0 | 0 | 0 | 0 | 0 | 0 | 0 | 0 | 0 | 0 | 0 | 0 | 0 | 0 | 1 | 0 | 2 | 0 | 0 | 0 | 1 | 0 | 0 |\n",
      "+----+---+---+---+---+---+---+---+---+---+---+---+---+---+---+---+---+---+---+---+---+---+---+---+---+---+---+---+---+---+---+\n"
     ]
    }
   ],
   "source": [
    "# print the table in other to see the frequency of each item\n",
    "\n",
    "counter.print_table()"
   ]
  },
  {
   "cell_type": "code",
   "execution_count": 56,
   "metadata": {},
   "outputs": [
    {
     "data": {
      "text/plain": [
       "Counter({'D': 139, 'C': 144, 'E': 122, 'F': 144, 'B': 153, 'A': 142, 'G': 156})"
      ]
     },
     "execution_count": 56,
     "metadata": {},
     "output_type": "execute_result"
    }
   ],
   "source": [
    "# random insert 1000 items of the universe\n",
    "counter.random_insert(1000)"
   ]
  },
  {
   "cell_type": "code",
   "execution_count": 57,
   "metadata": {},
   "outputs": [
    {
     "name": "stdout",
     "output_type": "stream",
     "text": [
      "A : 142\n",
      "B : 153\n",
      "C : 144\n",
      "D : 139\n",
      "E : 122\n",
      "F : 144\n",
      "G : 156\n"
     ]
    }
   ],
   "source": [
    "# print the frequency of each item \n",
    "for x in counter.universe:\n",
    "    print(f'{x} : {counter.query(x)}')"
   ]
  },
  {
   "cell_type": "code",
   "execution_count": 58,
   "metadata": {},
   "outputs": [],
   "source": [
    "# update the table with the item 'B'\n",
    "counter.update('B')"
   ]
  },
  {
   "cell_type": "code",
   "execution_count": 59,
   "metadata": {},
   "outputs": [
    {
     "data": {
      "text/plain": [
       "154"
      ]
     },
     "execution_count": 59,
     "metadata": {},
     "output_type": "execute_result"
    }
   ],
   "source": [
    "# get frequency of 'B'\n",
    "counter.query('B')"
   ]
  }
 ],
 "metadata": {
  "kernelspec": {
   "display_name": "base",
   "language": "python",
   "name": "python3"
  },
  "language_info": {
   "codemirror_mode": {
    "name": "ipython",
    "version": 3
   },
   "file_extension": ".py",
   "mimetype": "text/x-python",
   "name": "python",
   "nbconvert_exporter": "python",
   "pygments_lexer": "ipython3",
   "version": "3.9.7"
  },
  "orig_nbformat": 4
 },
 "nbformat": 4,
 "nbformat_minor": 2
}
